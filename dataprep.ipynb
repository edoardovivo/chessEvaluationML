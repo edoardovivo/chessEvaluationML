{
 "cells": [
  {
   "cell_type": "code",
   "execution_count": 1,
   "metadata": {},
   "outputs": [],
   "source": [
    "import pandas as pd\n",
    "import numpy as np"
   ]
  },
  {
   "cell_type": "markdown",
   "metadata": {},
   "source": [
    "### Read Data"
   ]
  },
  {
   "cell_type": "code",
   "execution_count": 2,
   "metadata": {},
   "outputs": [],
   "source": [
    "data = pd.read_csv(\"chessData.csv\")"
   ]
  },
  {
   "cell_type": "code",
   "execution_count": 3,
   "metadata": {},
   "outputs": [
    {
     "data": {
      "text/html": [
       "<div>\n",
       "<style scoped>\n",
       "    .dataframe tbody tr th:only-of-type {\n",
       "        vertical-align: middle;\n",
       "    }\n",
       "\n",
       "    .dataframe tbody tr th {\n",
       "        vertical-align: top;\n",
       "    }\n",
       "\n",
       "    .dataframe thead th {\n",
       "        text-align: right;\n",
       "    }\n",
       "</style>\n",
       "<table border=\"1\" class=\"dataframe\">\n",
       "  <thead>\n",
       "    <tr style=\"text-align: right;\">\n",
       "      <th></th>\n",
       "      <th>FEN</th>\n",
       "      <th>Evaluation</th>\n",
       "    </tr>\n",
       "  </thead>\n",
       "  <tbody>\n",
       "    <tr>\n",
       "      <th>0</th>\n",
       "      <td>rnbqkbnr/pppppppp/8/8/4P3/8/PPPP1PPP/RNBQKBNR ...</td>\n",
       "      <td>-10</td>\n",
       "    </tr>\n",
       "    <tr>\n",
       "      <th>1</th>\n",
       "      <td>rnbqkbnr/pppp1ppp/4p3/8/4P3/8/PPPP1PPP/RNBQKBN...</td>\n",
       "      <td>+56</td>\n",
       "    </tr>\n",
       "    <tr>\n",
       "      <th>2</th>\n",
       "      <td>rnbqkbnr/pppp1ppp/4p3/8/3PP3/8/PPP2PPP/RNBQKBN...</td>\n",
       "      <td>-9</td>\n",
       "    </tr>\n",
       "    <tr>\n",
       "      <th>3</th>\n",
       "      <td>rnbqkbnr/ppp2ppp/4p3/3p4/3PP3/8/PPP2PPP/RNBQKB...</td>\n",
       "      <td>+52</td>\n",
       "    </tr>\n",
       "    <tr>\n",
       "      <th>4</th>\n",
       "      <td>rnbqkbnr/ppp2ppp/4p3/3p4/3PP3/8/PPPN1PPP/R1BQK...</td>\n",
       "      <td>-26</td>\n",
       "    </tr>\n",
       "  </tbody>\n",
       "</table>\n",
       "</div>"
      ],
      "text/plain": [
       "                                                 FEN Evaluation\n",
       "0  rnbqkbnr/pppppppp/8/8/4P3/8/PPPP1PPP/RNBQKBNR ...        -10\n",
       "1  rnbqkbnr/pppp1ppp/4p3/8/4P3/8/PPPP1PPP/RNBQKBN...        +56\n",
       "2  rnbqkbnr/pppp1ppp/4p3/8/3PP3/8/PPP2PPP/RNBQKBN...         -9\n",
       "3  rnbqkbnr/ppp2ppp/4p3/3p4/3PP3/8/PPP2PPP/RNBQKB...        +52\n",
       "4  rnbqkbnr/ppp2ppp/4p3/3p4/3PP3/8/PPPN1PPP/R1BQK...        -26"
      ]
     },
     "execution_count": 3,
     "metadata": {},
     "output_type": "execute_result"
    }
   ],
   "source": [
    "data.head()"
   ]
  },
  {
   "cell_type": "code",
   "execution_count": 4,
   "metadata": {},
   "outputs": [
    {
     "data": {
      "text/plain": [
       "'rnbqkbnr/pppppppp/8/8/4P3/8/PPPP1PPP/RNBQKBNR b KQkq - 0 1'"
      ]
     },
     "execution_count": 4,
     "metadata": {},
     "output_type": "execute_result"
    }
   ],
   "source": [
    "data[\"FEN\"][0]"
   ]
  },
  {
   "cell_type": "code",
   "execution_count": null,
   "metadata": {},
   "outputs": [],
   "source": []
  },
  {
   "cell_type": "code",
   "execution_count": 48,
   "metadata": {},
   "outputs": [],
   "source": [
    "def rank_to_vars(rank):\n",
    "    lst_rank = list(rank)\n",
    "    vars_rank = [value if not value.isnumeric() else int(value)*[None] for value in lst_rank ]\n",
    "    vars_rank = [item for sublist in vars_rank for item in sublist]\n",
    "    \n",
    "    return vars_rank\n",
    "    \n",
    "    \n",
    "def board_to_vars(board, var_names):\n",
    "    ranks = board.split(\"/\")\n",
    "    vars_board = []\n",
    "    for rank in ranks:\n",
    "        vars_rank = rank_to_vars(rank)\n",
    "        vars_board.append(vars_rank)\n",
    "    vars_board = np.array(vars_board)\n",
    "    return pd.Series(vars_board.flatten(), index=var_names)\n",
    "    \n",
    "def turn_parsing(turn):\n",
    "    whiteToMove = 1 if turn == 'w' else 0\n",
    "    return pd.Series(np.array([whiteToMove]), index=[\"WhiteToMove\"])\n",
    "\n",
    "def castling_rights_parsing(castling_rights):\n",
    "    castling_var_names = ['WhiteCanCastleKS', 'WhiteCanCastleQS', 'BlackCanCastleKS', 'BlackCanCastleQS']\n",
    "    castling_idx_dict = {\n",
    "        'K': 0,\n",
    "        'Q': 1,\n",
    "        'k': 2,\n",
    "        'q': 3\n",
    "    }\n",
    "    if castling_rights == '-':\n",
    "        return pd.Series(4*[0], index=castling_var_names)\n",
    "    else:\n",
    "        castling_vars = 4*[0]\n",
    "        lst_castling_rights = list(castling_rights)\n",
    "        for value in lst_castling_rights:\n",
    "            idx = castling_idx_dict[value]\n",
    "            castling_vars[idx] = 1\n",
    "        castling_vars = np.array(castling_vars)\n",
    "        \n",
    "        return pd.Series(castling_vars, index=castling_var_names)\n",
    "\n",
    "def enpassant_square_parsing(enpassant_square):\n",
    "    fileToCol = {\n",
    "        \"a\": 0,\n",
    "        \"b\": 1,\n",
    "        \"c\": 2,\n",
    "        \"d\": 3,\n",
    "        \"e\": 4,\n",
    "        \"f\": 5,\n",
    "        \"g\": 6,\n",
    "        \"h\": 7\n",
    "    }\n",
    "    if enpassant_square == '-':\n",
    "        return pd.Series([None], index=['EnPassantSquare'])\n",
    "    else:\n",
    "        col = fileToCol[enpassant_square[0]]\n",
    "        row = 8 - int(enpassant_square[1])\n",
    "        idx = row*8 + col\n",
    "        \n",
    "        return pd.Series([idx], index=['EnPassantSquare'])\n",
    "    \n",
    "    \n",
    "    \n",
    "def fen_to_vars(fen):\n",
    "    fen_pieces = fen.split(\" \")\n",
    "    board = fen_pieces[0]\n",
    "    turn = fen_pieces[1]\n",
    "    castling_rights = fen_pieces[2]\n",
    "    enpassant_square = fen_pieces[3]\n",
    "    halfmove_clock = fen_pieces[4]\n",
    "    fullmove_counter = fen_pieces[5]\n",
    "    \n",
    "    \n",
    "    board_var_names = [\"Sq_{}\".format(i) for i in range(64)]\n",
    "    vars_board = board_to_vars(board, board_var_names)\n",
    "    whitetoMove = turn_parsing(turn)\n",
    "    castling_vars = castling_rights_parsing(castling_rights)\n",
    "    enpassant_square_var = enpassant_square_parsing(enpassant_square)\n",
    "    move_counter_var = pd.Series([int(fullmove_counter)], index=[\"MoveCounter\"])\n",
    "    \n",
    "    return pd.concat([vars_board, whitetoMove, castling_vars, enpassant_square_var, move_counter_var])\n",
    "    \n",
    "    \n",
    "    \n",
    "    \n",
    "    "
   ]
  },
  {
   "cell_type": "code",
   "execution_count": 49,
   "metadata": {},
   "outputs": [
    {
     "data": {
      "text/plain": [
       "Sq_0                   r\n",
       "Sq_1                   n\n",
       "Sq_2                   b\n",
       "Sq_3                   q\n",
       "Sq_4                   k\n",
       "                    ... \n",
       "WhiteCanCastleQS       1\n",
       "BlackCanCastleKS       1\n",
       "BlackCanCastleQS       1\n",
       "EnPassantSquare     None\n",
       "MoveCounter            1\n",
       "Length: 71, dtype: object"
      ]
     },
     "execution_count": 49,
     "metadata": {},
     "output_type": "execute_result"
    }
   ],
   "source": [
    "fen = 'rnbqkbnr/pppppppp/8/8/4P3/8/PPPP1PPP/RNBQKBNR b KQkq - 0 1'\n",
    "board = 'rnbqkbnr/pppppppp/8/8/4P3/8/PPPP1PPP/RNBQKBNR'\n",
    "rank = '4P3'\n",
    "castling_rights = 'Kkq'\n",
    "\n",
    "enpassant_square = \"e3\"\n",
    "fen_to_vars(fen)"
   ]
  },
  {
   "cell_type": "code",
   "execution_count": 50,
   "metadata": {},
   "outputs": [
    {
     "data": {
      "text/plain": [
       "(12958035, 2)"
      ]
     },
     "execution_count": 50,
     "metadata": {},
     "output_type": "execute_result"
    }
   ],
   "source": [
    "data.shape"
   ]
  },
  {
   "cell_type": "code",
   "execution_count": 51,
   "metadata": {},
   "outputs": [],
   "source": [
    "data_prepared = data['FEN'].apply(fen_to_vars)"
   ]
  },
  {
   "cell_type": "code",
   "execution_count": null,
   "metadata": {},
   "outputs": [],
   "source": [
    "data_prepared[\"Evaluation\"] = data[\"Evaluation\"]"
   ]
  },
  {
   "cell_type": "code",
   "execution_count": null,
   "metadata": {},
   "outputs": [],
   "source": []
  }
 ],
 "metadata": {
  "interpreter": {
   "hash": "d4d1e4263499bec80672ea0156c357c1ee493ec2b1c70f0acce89fc37c4a6abe"
  },
  "kernelspec": {
   "display_name": "Python 3.9.7 64-bit ('base': conda)",
   "language": "python",
   "name": "python3"
  },
  "language_info": {
   "codemirror_mode": {
    "name": "ipython",
    "version": 3
   },
   "file_extension": ".py",
   "mimetype": "text/x-python",
   "name": "python",
   "nbconvert_exporter": "python",
   "pygments_lexer": "ipython3",
   "version": "3.9.7"
  },
  "orig_nbformat": 4
 },
 "nbformat": 4,
 "nbformat_minor": 2
}
